{
 "cells": [
  {
   "cell_type": "markdown",
   "metadata": {},
   "source": [
    "## Generate Uniform Random Numbers"
   ]
  },
  {
   "cell_type": "code",
   "execution_count": null,
   "metadata": {
    "vscode": {
     "languageId": "r"
    }
   },
   "outputs": [],
   "source": [
    "# Generate 1000 uniform random numbers between 0 and 1\n",
    "random_numbers <- runif(1000, min = 0, max = 1)\n",
    "\n",
    "# Plot the histogram of the random numbers\n",
    "par(bg = 'white')\n",
    "hist(random_numbers, main = \"Histogram of Uniform Random Numbers\", xlab = \"Value\", ylab = \"Frequency\",\n",
    "     col = \"lightblue\", border = \"blue\")\n"
   ]
  },
  {
   "cell_type": "markdown",
   "metadata": {},
   "source": [
    "## Uniformly Random Scatter Plot"
   ]
  },
  {
   "cell_type": "code",
   "execution_count": null,
   "metadata": {
    "vscode": {
     "languageId": "r"
    }
   },
   "outputs": [],
   "source": [
    "# Number of times to repeat generating the two numbers\n",
    "n <- 1000\n",
    "\n",
    "# Generate n uniform random numbers for X and Y\n",
    "X <- runif(n, min = 0, max = 1)\n",
    "Y <- runif(n, min = 0, max = 1)\n",
    "\n",
    "# Plot the scatterplot of X vs Y\n",
    "par(bg = 'white')\n",
    "plot(X, Y, main = \"Scatterplot of Independent Uniform Random Numbers\",\n",
    "     xlab = \"X Values\", ylab = \"Y Values\", col = \"blue\", pch = 19)\n"
   ]
  },
  {
   "cell_type": "markdown",
   "metadata": {},
   "source": [
    "## Estimating Pi"
   ]
  },
  {
   "cell_type": "code",
   "execution_count": null,
   "metadata": {
    "vscode": {
     "languageId": "r"
    }
   },
   "outputs": [],
   "source": [
    "# Number of points to generate\n",
    "n <- 10000\n",
    "\n",
    "# Generate n uniform random numbers for X and Y in the range [-1, 1]\n",
    "X <- runif(n, min = -1, max = 1)\n",
    "Y <- runif(n, min = -1, max = 1)\n",
    "\n",
    "# Count how many points fall inside the unit circle\n",
    "points_inside <- sum(X^2 + Y^2 < 1)\n",
    "\n",
    "# Estimate Pi\n",
    "pi_estimate <- (points_inside / n) * 4\n",
    "\n",
    "# Print the estimate\n",
    "print(pi_estimate)"
   ]
  },
  {
   "cell_type": "markdown",
   "metadata": {},
   "source": [
    "## Flipping A Fair Coin"
   ]
  },
  {
   "cell_type": "code",
   "execution_count": null,
   "metadata": {
    "vscode": {
     "languageId": "r"
    }
   },
   "outputs": [],
   "source": [
    "# Generate a uniform random number U between 0 and 1\n",
    "U <- runif(1, min = 0, max = 1)\n",
    "\n",
    "# Determine the value of Z based on U\n",
    "Z <- ifelse(U < 0.5, 0, 1)\n",
    "\n",
    "# Print the result\n",
    "print(Z)"
   ]
  },
  {
   "cell_type": "markdown",
   "metadata": {},
   "source": [
    "## Flipping Many Coins"
   ]
  },
  {
   "cell_type": "code",
   "execution_count": null,
   "metadata": {
    "vscode": {
     "languageId": "r"
    }
   },
   "outputs": [],
   "source": [
    "# Number of coin flips\n",
    "n <- 10\n",
    "\n",
    "# Generate n uniform random numbers U between 0 and 1\n",
    "U <- runif(n, min = 0, max = 1)\n",
    "\n",
    "# Determine the value of Z for each U\n",
    "Z <- ifelse(U < 0.5, 0, 1)\n",
    "\n",
    "# Print the results\n",
    "print(Z)"
   ]
  },
  {
   "cell_type": "markdown",
   "metadata": {},
   "source": [
    "## Averaging Coin Flips"
   ]
  },
  {
   "cell_type": "code",
   "execution_count": null,
   "metadata": {
    "vscode": {
     "languageId": "r"
    }
   },
   "outputs": [],
   "source": [
    "# Number of coins to flip in each experiment\n",
    "n <- 10\n",
    "\n",
    "# Number of experiments\n",
    "m <- 1000\n",
    "\n",
    "# Generate m experiments of n coin flips, where each flip is represented by a uniform random number < 0.5 (head) or >= 0.5 (tail)\n",
    "coin_flips <- matrix(runif(n * m, min = 0, max = 1) < 0.5, nrow = m, ncol = n)\n",
    "\n",
    "# Sum the number of heads (1s) in each experiment to get X\n",
    "X <- rowSums(coin_flips)\n",
    "\n",
    "# Plot the histogram of X\n",
    "par(bg = 'white')\n",
    "hist(X, main = \"Histogram of Number of Heads (X)\", xlab = \"Number of Heads\", ylab = \"Frequency\", col = \"lightblue\", border = \"blue\")\n",
    "\n",
    "# Plot the histogram of X/n\n",
    "par(bg = 'white')\n",
    "hist(X/n, main = \"Histogram of Proportion of Heads (X/n)\", xlab = \"Proportion of Heads\", ylab = \"Frequency\", col = \"lightgreen\", border = \"darkgreen\")\n"
   ]
  },
  {
   "cell_type": "markdown",
   "metadata": {},
   "source": [
    "## A Random Walk"
   ]
  },
  {
   "cell_type": "code",
   "execution_count": null,
   "metadata": {
    "vscode": {
     "languageId": "r"
    }
   },
   "outputs": [],
   "source": [
    "# Total number of steps\n",
    "t <- 100\n",
    "\n",
    "# Generate uniform random numbers\n",
    "U <- runif(t, min = 0, max = 1)\n",
    "\n",
    "# Generate Z: -1 if U < 0.5, 1 otherwise\n",
    "Z <- ifelse(U < 0.5, -1, 1)\n",
    "\n",
    "# Initialize X\n",
    "X <- rep(0, t + 1)\n",
    "\n",
    "# Compute X_t for each step\n",
    "for (i in 1:t) {\n",
    "  X[i + 1] <- X[i] + Z[i]\n",
    "}\n",
    "\n",
    "# Plot the trajectory of the random walk\n",
    "par(bg = 'white')\n",
    "plot(0:t, X, type = \"l\", main = \"Trajectory of the Random Walk\", xlab = \"Time t\", ylab = \"Position X\", col = \"blue\")\n",
    "\n",
    "# Plot a histogram of the final positions\n",
    "par(bg = 'white')\n",
    "hist(X, main = \"Histogram of Positions at Final Time Step\", xlab = \"Position X\", ylab = \"Frequency\", col = \"lightgreen\", border = \"darkgreen\")\n"
   ]
  },
  {
   "cell_type": "markdown",
   "metadata": {},
   "source": [
    "## Transformation Of Random Variable"
   ]
  },
  {
   "cell_type": "code",
   "execution_count": null,
   "metadata": {
    "vscode": {
     "languageId": "r"
    }
   },
   "outputs": [],
   "source": [
    "# Number of random variables to generate\n",
    "n <- 1000\n",
    "\n",
    "# Generate uniform random variables U\n",
    "U <- runif(n, min = 0, max = 1)\n",
    "\n",
    "# Transform U to get exponential random variables X\n",
    "X <- -log(U)\n",
    "\n",
    "# Plot histogram of X to visualize the exponential distribution\n",
    "par(bg = 'white')\n",
    "hist(X, main = \"Histogram of Exponential Random Variables\", xlab = \"X\", ylab = \"Frequency\", col = \"lightblue\", border = \"blue\", breaks = 50)"
   ]
  },
  {
   "cell_type": "markdown",
   "metadata": {},
   "source": [
    "## CLT and LLN"
   ]
  },
  {
   "cell_type": "code",
   "execution_count": null,
   "metadata": {
    "vscode": {
     "languageId": "r"
    }
   },
   "outputs": [],
   "source": [
    "# Number of trials\n",
    "trials <- 10000\n",
    "\n",
    "# Initialize vectors to store the results\n",
    "mean_u <- numeric(trials)\n",
    "clt_u <- numeric(trials)\n",
    "\n",
    "# Number of observations (change this to see different effects)\n",
    "n <- 30\n",
    "\n",
    "# Simulation\n",
    "for (i in 1:trials) {\n",
    "  # Generate n uniform random numbers\n",
    "  U <- runif(n, min = 0, max = 1)\n",
    "  \n",
    "  # Calculate the mean\n",
    "  mean_u[i] <- mean(U)\n",
    "  \n",
    "  # Calculate for CLT\n",
    "  clt_u[i] <- sqrt(n) * (mean_u[i] - 1/2)\n",
    "}\n",
    "\n",
    "# Plot the histogram of mean_u to demonstrate LLN\n",
    "par(bg = 'white')\n",
    "hist(mean_u, main = \"LLN: Histogram of U-bar\", xlab = \"U-bar\", ylab = \"Frequency\", col = \"lightblue\", border = \"blue\", breaks = 30)\n",
    "\n",
    "# Plot the histogram of clt_u to demonstrate CLT\n",
    "par(bg = 'white')\n",
    "hist(clt_u, main = \"CLT: Histogram of sqrt(n) (U-bar - 1/2)\", xlab = \"sqrt(n) (U-bar - 1/2)\", ylab = \"Frequency\", col = \"lightgreen\", border = \"darkgreen\", breaks = 30)\n"
   ]
  },
  {
   "cell_type": "markdown",
   "metadata": {},
   "source": []
  }
 ],
 "metadata": {
  "kernelspec": {
   "display_name": "R",
   "language": "R",
   "name": "ir"
  },
  "language_info": {
   "codemirror_mode": "r",
   "file_extension": ".r",
   "mimetype": "text/x-r-source",
   "name": "R",
   "pygments_lexer": "r",
   "version": "4.3.2"
  }
 },
 "nbformat": 4,
 "nbformat_minor": 2
}
